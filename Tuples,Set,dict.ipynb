{
 "cells": [
  {
   "cell_type": "markdown",
   "id": "3316a15f",
   "metadata": {},
   "source": [
    "#  TUPLES"
   ]
  },
  {
   "cell_type": "code",
   "execution_count": 2,
   "id": "b1383cbc",
   "metadata": {},
   "outputs": [],
   "source": [
    "t=(1,2,3,4,5)"
   ]
  },
  {
   "cell_type": "code",
   "execution_count": 3,
   "id": "f727cd4c",
   "metadata": {},
   "outputs": [
    {
     "data": {
      "text/plain": [
       "tuple"
      ]
     },
     "execution_count": 3,
     "metadata": {},
     "output_type": "execute_result"
    }
   ],
   "source": [
    "type(t)"
   ]
  },
  {
   "cell_type": "code",
   "execution_count": 6,
   "id": "5fc42f02",
   "metadata": {},
   "outputs": [],
   "source": [
    "t=(2.3,\"sardar\",8,8+2j,True)"
   ]
  },
  {
   "cell_type": "code",
   "execution_count": 5,
   "id": "3ab70bf3",
   "metadata": {},
   "outputs": [
    {
     "data": {
      "text/plain": [
       "tuple"
      ]
     },
     "execution_count": 5,
     "metadata": {},
     "output_type": "execute_result"
    }
   ],
   "source": [
    "type(t)"
   ]
  },
  {
   "cell_type": "code",
   "execution_count": 7,
   "id": "9c17a8ee",
   "metadata": {},
   "outputs": [],
   "source": [
    "l=[2.3,\"sardar\",8,8+2j,True]"
   ]
  },
  {
   "cell_type": "code",
   "execution_count": 8,
   "id": "00e377fc",
   "metadata": {},
   "outputs": [
    {
     "data": {
      "text/plain": [
       "list"
      ]
     },
     "execution_count": 8,
     "metadata": {},
     "output_type": "execute_result"
    }
   ],
   "source": [
    "type(l)"
   ]
  },
  {
   "cell_type": "code",
   "execution_count": 9,
   "id": "fce79b4d",
   "metadata": {},
   "outputs": [],
   "source": [
    "t2=()"
   ]
  },
  {
   "cell_type": "code",
   "execution_count": 10,
   "id": "00036b0b",
   "metadata": {},
   "outputs": [
    {
     "data": {
      "text/plain": [
       "tuple"
      ]
     },
     "execution_count": 10,
     "metadata": {},
     "output_type": "execute_result"
    }
   ],
   "source": [
    "type(t2)"
   ]
  },
  {
   "cell_type": "code",
   "execution_count": 11,
   "id": "9666e3af",
   "metadata": {},
   "outputs": [
    {
     "data": {
      "text/plain": [
       "[2.3, 'sardar', 8, (8+2j), True]"
      ]
     },
     "execution_count": 11,
     "metadata": {},
     "output_type": "execute_result"
    }
   ],
   "source": [
    "l"
   ]
  },
  {
   "cell_type": "code",
   "execution_count": 12,
   "id": "3f88bc97",
   "metadata": {},
   "outputs": [
    {
     "data": {
      "text/plain": [
       "[2.3, 'sardar', 8]"
      ]
     },
     "execution_count": 12,
     "metadata": {},
     "output_type": "execute_result"
    }
   ],
   "source": [
    "l[0:3]"
   ]
  },
  {
   "cell_type": "code",
   "execution_count": 13,
   "id": "8a2a434c",
   "metadata": {},
   "outputs": [
    {
     "data": {
      "text/plain": [
       "(2.3, 'sardar', 8)"
      ]
     },
     "execution_count": 13,
     "metadata": {},
     "output_type": "execute_result"
    }
   ],
   "source": [
    "t[0:3]"
   ]
  },
  {
   "cell_type": "code",
   "execution_count": 14,
   "id": "8ced67ca",
   "metadata": {},
   "outputs": [
    {
     "data": {
      "text/plain": [
       "(True, (8+2j), 8, 'sardar', 2.3)"
      ]
     },
     "execution_count": 14,
     "metadata": {},
     "output_type": "execute_result"
    }
   ],
   "source": [
    "t[::-1]"
   ]
  },
  {
   "cell_type": "code",
   "execution_count": 16,
   "id": "6e80dffc",
   "metadata": {},
   "outputs": [
    {
     "data": {
      "text/plain": [
       "True"
      ]
     },
     "execution_count": 16,
     "metadata": {},
     "output_type": "execute_result"
    }
   ],
   "source": [
    "t[-1]"
   ]
  },
  {
   "cell_type": "code",
   "execution_count": 17,
   "id": "8c945957",
   "metadata": {},
   "outputs": [
    {
     "data": {
      "text/plain": [
       "(2.3, 8, True)"
      ]
     },
     "execution_count": 17,
     "metadata": {},
     "output_type": "execute_result"
    }
   ],
   "source": [
    "t[0::2]"
   ]
  },
  {
   "cell_type": "code",
   "execution_count": 18,
   "id": "85095b16",
   "metadata": {},
   "outputs": [
    {
     "data": {
      "text/plain": [
       "(2.3, (8+2j))"
      ]
     },
     "execution_count": 18,
     "metadata": {},
     "output_type": "execute_result"
    }
   ],
   "source": [
    "t[0::3]"
   ]
  },
  {
   "cell_type": "code",
   "execution_count": 19,
   "id": "c764f8cb",
   "metadata": {},
   "outputs": [],
   "source": [
    "l1=[2,3,4,5]"
   ]
  },
  {
   "cell_type": "code",
   "execution_count": 21,
   "id": "8917b5d9",
   "metadata": {},
   "outputs": [],
   "source": [
    "l[0]=\"sardar\""
   ]
  },
  {
   "cell_type": "code",
   "execution_count": 22,
   "id": "c8aee778",
   "metadata": {},
   "outputs": [
    {
     "data": {
      "text/plain": [
       "['sardar', 'sardar', 8, (8+2j), True]"
      ]
     },
     "execution_count": 22,
     "metadata": {},
     "output_type": "execute_result"
    }
   ],
   "source": [
    "l"
   ]
  },
  {
   "cell_type": "code",
   "execution_count": 23,
   "id": "1256eeea",
   "metadata": {},
   "outputs": [],
   "source": [
    "l[1]=\"khan\""
   ]
  },
  {
   "cell_type": "code",
   "execution_count": 24,
   "id": "81df832c",
   "metadata": {},
   "outputs": [
    {
     "data": {
      "text/plain": [
       "['sardar', 'khan', 8, (8+2j), True]"
      ]
     },
     "execution_count": 24,
     "metadata": {},
     "output_type": "execute_result"
    }
   ],
   "source": [
    "l"
   ]
  },
  {
   "cell_type": "code",
   "execution_count": 25,
   "id": "6fa97461",
   "metadata": {},
   "outputs": [
    {
     "data": {
      "text/plain": [
       "(2.3, 'sardar', 8, (8+2j), True)"
      ]
     },
     "execution_count": 25,
     "metadata": {},
     "output_type": "execute_result"
    }
   ],
   "source": [
    "t"
   ]
  },
  {
   "cell_type": "code",
   "execution_count": 26,
   "id": "f7944b1e",
   "metadata": {},
   "outputs": [
    {
     "ename": "TypeError",
     "evalue": "'tuple' object does not support item assignment",
     "output_type": "error",
     "traceback": [
      "\u001b[1;31m---------------------------------------------------------------------------\u001b[0m",
      "\u001b[1;31mTypeError\u001b[0m                                 Traceback (most recent call last)",
      "\u001b[1;32m~\\AppData\\Local\\Temp/ipykernel_8476/3088190905.py\u001b[0m in \u001b[0;36m<module>\u001b[1;34m\u001b[0m\n\u001b[1;32m----> 1\u001b[1;33m \u001b[0mt\u001b[0m\u001b[1;33m[\u001b[0m\u001b[1;36m0\u001b[0m\u001b[1;33m]\u001b[0m\u001b[1;33m=\u001b[0m\u001b[1;34m'sardar'\u001b[0m\u001b[1;33m\u001b[0m\u001b[1;33m\u001b[0m\u001b[0m\n\u001b[0m",
      "\u001b[1;31mTypeError\u001b[0m: 'tuple' object does not support item assignment"
     ]
    }
   ],
   "source": [
    "t[0]='sardar'"
   ]
  },
  {
   "cell_type": "markdown",
   "id": "3b9188d4",
   "metadata": {},
   "source": [
    "tuples are immutable entity it does not support item assignment"
   ]
  },
  {
   "cell_type": "code",
   "execution_count": 27,
   "id": "28377d2c",
   "metadata": {},
   "outputs": [
    {
     "data": {
      "text/plain": [
       "(2.3, 'sardar', 8, (8+2j), True)"
      ]
     },
     "execution_count": 27,
     "metadata": {},
     "output_type": "execute_result"
    }
   ],
   "source": [
    "t"
   ]
  },
  {
   "cell_type": "code",
   "execution_count": 30,
   "id": "dbc75570",
   "metadata": {},
   "outputs": [],
   "source": [
    "t1=(3,3,3,4,5,5)"
   ]
  },
  {
   "cell_type": "code",
   "execution_count": 31,
   "id": "4effedde",
   "metadata": {},
   "outputs": [
    {
     "data": {
      "text/plain": [
       "(2.3, 'sardar', 8, (8+2j), True, 3, 3, 3, 4, 5, 5)"
      ]
     },
     "execution_count": 31,
     "metadata": {},
     "output_type": "execute_result"
    }
   ],
   "source": [
    "t+t1"
   ]
  },
  {
   "cell_type": "code",
   "execution_count": 32,
   "id": "c41e5098",
   "metadata": {},
   "outputs": [],
   "source": [
    "t2=t+t1"
   ]
  },
  {
   "cell_type": "code",
   "execution_count": 33,
   "id": "94ce8b1e",
   "metadata": {},
   "outputs": [
    {
     "data": {
      "text/plain": [
       "(2.3, 'sardar', 8, (8+2j), True, 3, 3, 3, 4, 5, 5)"
      ]
     },
     "execution_count": 33,
     "metadata": {},
     "output_type": "execute_result"
    }
   ],
   "source": [
    "t2"
   ]
  },
  {
   "cell_type": "code",
   "execution_count": 34,
   "id": "f7693e2f",
   "metadata": {},
   "outputs": [
    {
     "data": {
      "text/plain": [
       "(2.3, 'sardar', 8, (8+2j), True, 3, 3, 3, 4, 5, 5)"
      ]
     },
     "execution_count": 34,
     "metadata": {},
     "output_type": "execute_result"
    }
   ],
   "source": [
    "t2"
   ]
  },
  {
   "cell_type": "code",
   "execution_count": 35,
   "id": "f5770db9",
   "metadata": {},
   "outputs": [
    {
     "data": {
      "text/plain": [
       "(2.3, 'sardar', 8, (8+2j), True)"
      ]
     },
     "execution_count": 35,
     "metadata": {},
     "output_type": "execute_result"
    }
   ],
   "source": [
    "t"
   ]
  },
  {
   "cell_type": "code",
   "execution_count": 36,
   "id": "cf47bd72",
   "metadata": {},
   "outputs": [
    {
     "data": {
      "text/plain": [
       "(3, 3, 3, 4, 5, 5)"
      ]
     },
     "execution_count": 36,
     "metadata": {},
     "output_type": "execute_result"
    }
   ],
   "source": [
    "t1"
   ]
  },
  {
   "cell_type": "code",
   "execution_count": 37,
   "id": "9526ffed",
   "metadata": {},
   "outputs": [
    {
     "data": {
      "text/plain": [
       "(3, 3, 3, 4, 5, 5, 3, 3, 3, 4, 5, 5)"
      ]
     },
     "execution_count": 37,
     "metadata": {},
     "output_type": "execute_result"
    }
   ],
   "source": [
    "t1*2"
   ]
  },
  {
   "cell_type": "code",
   "execution_count": 38,
   "id": "051a3144",
   "metadata": {},
   "outputs": [
    {
     "data": {
      "text/plain": [
       "(2.3, 'sardar', 8, (8+2j), True, 2.3, 'sardar', 8, (8+2j), True)"
      ]
     },
     "execution_count": 38,
     "metadata": {},
     "output_type": "execute_result"
    }
   ],
   "source": [
    "t*2"
   ]
  },
  {
   "cell_type": "code",
   "execution_count": 40,
   "id": "7392fcef",
   "metadata": {},
   "outputs": [
    {
     "data": {
      "text/plain": [
       "(2.3, 'sardar', 8, (8+2j), True)"
      ]
     },
     "execution_count": 40,
     "metadata": {},
     "output_type": "execute_result"
    }
   ],
   "source": [
    "t"
   ]
  },
  {
   "cell_type": "code",
   "execution_count": 44,
   "id": "a666c1d8",
   "metadata": {},
   "outputs": [
    {
     "data": {
      "text/plain": [
       "1"
      ]
     },
     "execution_count": 44,
     "metadata": {},
     "output_type": "execute_result"
    }
   ],
   "source": [
    "t.count('sardar')"
   ]
  },
  {
   "cell_type": "code",
   "execution_count": 45,
   "id": "19dfd592",
   "metadata": {},
   "outputs": [
    {
     "data": {
      "text/plain": [
       "2"
      ]
     },
     "execution_count": 45,
     "metadata": {},
     "output_type": "execute_result"
    }
   ],
   "source": [
    "t.index(8)"
   ]
  },
  {
   "cell_type": "code",
   "execution_count": 46,
   "id": "a2dbcbc8",
   "metadata": {},
   "outputs": [
    {
     "data": {
      "text/plain": [
       "1"
      ]
     },
     "execution_count": 46,
     "metadata": {},
     "output_type": "execute_result"
    }
   ],
   "source": [
    "t2.index('sardar')"
   ]
  },
  {
   "cell_type": "code",
   "execution_count": 48,
   "id": "48a2d686",
   "metadata": {},
   "outputs": [
    {
     "data": {
      "text/plain": [
       "3"
      ]
     },
     "execution_count": 48,
     "metadata": {},
     "output_type": "execute_result"
    }
   ],
   "source": [
    "t2.count(3)"
   ]
  },
  {
   "cell_type": "code",
   "execution_count": 53,
   "id": "6bafad62",
   "metadata": {},
   "outputs": [],
   "source": [
    "t=(34,4,5,6,(3,4,4,4),\"sardar\",9+2j)"
   ]
  },
  {
   "cell_type": "code",
   "execution_count": 54,
   "id": "fbbdf960",
   "metadata": {},
   "outputs": [
    {
     "data": {
      "text/plain": [
       "(34, 4, 5, 6, (3, 4, 4, 4), 'sardar', (9+2j))"
      ]
     },
     "execution_count": 54,
     "metadata": {},
     "output_type": "execute_result"
    }
   ],
   "source": [
    "t"
   ]
  },
  {
   "cell_type": "code",
   "execution_count": 57,
   "id": "7395d0a4",
   "metadata": {},
   "outputs": [],
   "source": [
    "t1=([2,3,4,4],(\"sardar\",2,34,5,6,4),\"saeae\")"
   ]
  },
  {
   "cell_type": "code",
   "execution_count": 58,
   "id": "e5467e71",
   "metadata": {},
   "outputs": [
    {
     "data": {
      "text/plain": [
       "([2, 3, 4, 4], ('sardar', 2, 34, 5, 6, 4), 'saeae')"
      ]
     },
     "execution_count": 58,
     "metadata": {},
     "output_type": "execute_result"
    }
   ],
   "source": [
    "t1"
   ]
  },
  {
   "cell_type": "code",
   "execution_count": 61,
   "id": "81d1839c",
   "metadata": {},
   "outputs": [],
   "source": [
    "t1[0][2]=\"saradra\""
   ]
  },
  {
   "cell_type": "code",
   "execution_count": 62,
   "id": "66726a8b",
   "metadata": {},
   "outputs": [
    {
     "data": {
      "text/plain": [
       "([2, 3, 'saradra', 4], ('sardar', 2, 34, 5, 6, 4), 'saeae')"
      ]
     },
     "execution_count": 62,
     "metadata": {},
     "output_type": "execute_result"
    }
   ],
   "source": [
    "t1"
   ]
  },
  {
   "cell_type": "code",
   "execution_count": 63,
   "id": "4c4d886b",
   "metadata": {},
   "outputs": [
    {
     "data": {
      "text/plain": [
       "('sardar', 2, 34, 5, 6, 4)"
      ]
     },
     "execution_count": 63,
     "metadata": {},
     "output_type": "execute_result"
    }
   ],
   "source": [
    "t1[1]"
   ]
  },
  {
   "cell_type": "code",
   "execution_count": 67,
   "id": "10984af8",
   "metadata": {},
   "outputs": [],
   "source": [
    "t1=(32,4,5,5,5,5,6,7,8,8,8)"
   ]
  },
  {
   "cell_type": "code",
   "execution_count": 68,
   "id": "0a2662d5",
   "metadata": {},
   "outputs": [
    {
     "data": {
      "text/plain": [
       "[32, 4, 5, 5, 5, 5, 6, 7, 8, 8, 8]"
      ]
     },
     "execution_count": 68,
     "metadata": {},
     "output_type": "execute_result"
    }
   ],
   "source": [
    "list(t1)"
   ]
  },
  {
   "cell_type": "code",
   "execution_count": 69,
   "id": "fd5233a5",
   "metadata": {},
   "outputs": [],
   "source": [
    "l=list(t1)"
   ]
  },
  {
   "cell_type": "code",
   "execution_count": 70,
   "id": "447a44da",
   "metadata": {},
   "outputs": [
    {
     "data": {
      "text/plain": [
       "[32, 4, 5, 5, 5, 5, 6, 7, 8, 8, 8]"
      ]
     },
     "execution_count": 70,
     "metadata": {},
     "output_type": "execute_result"
    }
   ],
   "source": [
    "l\n"
   ]
  },
  {
   "cell_type": "code",
   "execution_count": 71,
   "id": "12f0ca21",
   "metadata": {},
   "outputs": [
    {
     "data": {
      "text/plain": [
       "(32, 4, 5, 5, 5, 5, 6, 7, 8, 8, 8)"
      ]
     },
     "execution_count": 71,
     "metadata": {},
     "output_type": "execute_result"
    }
   ],
   "source": [
    "tuple(l)"
   ]
  },
  {
   "cell_type": "markdown",
   "id": "49a29204",
   "metadata": {},
   "source": [
    "#  Set"
   ]
  },
  {
   "cell_type": "code",
   "execution_count": 72,
   "id": "3d403abf",
   "metadata": {},
   "outputs": [],
   "source": [
    "l=[2,3,4,5,6,32,3,3,3,3,3,2,2,2,2,3,3,3,4,4,5,2,3,4]"
   ]
  },
  {
   "cell_type": "code",
   "execution_count": 73,
   "id": "8a193078",
   "metadata": {},
   "outputs": [
    {
     "data": {
      "text/plain": [
       "[2, 3, 4, 5, 6, 32, 3, 3, 3, 3, 3, 2, 2, 2, 2, 3, 3, 3, 4, 4, 5, 2, 3, 4]"
      ]
     },
     "execution_count": 73,
     "metadata": {},
     "output_type": "execute_result"
    }
   ],
   "source": [
    "l"
   ]
  },
  {
   "cell_type": "code",
   "execution_count": 74,
   "id": "a7e032af",
   "metadata": {},
   "outputs": [
    {
     "data": {
      "text/plain": [
       "{2, 3, 4, 5, 6, 32}"
      ]
     },
     "execution_count": 74,
     "metadata": {},
     "output_type": "execute_result"
    }
   ],
   "source": [
    "set(l)"
   ]
  },
  {
   "cell_type": "raw",
   "id": "0716e58d",
   "metadata": {},
   "source": [
    "# set is a collection of elements which will always try to hold a unique elements"
   ]
  },
  {
   "cell_type": "code",
   "execution_count": 76,
   "id": "d5f7e6a8",
   "metadata": {},
   "outputs": [],
   "source": [
    "s={}"
   ]
  },
  {
   "cell_type": "code",
   "execution_count": 77,
   "id": "9537be62",
   "metadata": {},
   "outputs": [
    {
     "data": {
      "text/plain": [
       "dict"
      ]
     },
     "execution_count": 77,
     "metadata": {},
     "output_type": "execute_result"
    }
   ],
   "source": [
    "type(s)\n"
   ]
  },
  {
   "cell_type": "code",
   "execution_count": 78,
   "id": "1712d809",
   "metadata": {},
   "outputs": [],
   "source": [
    "s1={1,2,3}"
   ]
  },
  {
   "cell_type": "code",
   "execution_count": 79,
   "id": "729304ae",
   "metadata": {},
   "outputs": [
    {
     "data": {
      "text/plain": [
       "set"
      ]
     },
     "execution_count": 79,
     "metadata": {},
     "output_type": "execute_result"
    }
   ],
   "source": [
    "type(s1)"
   ]
  },
  {
   "cell_type": "code",
   "execution_count": 80,
   "id": "412be427",
   "metadata": {},
   "outputs": [],
   "source": [
    "s2={1,2,1,1,1,13,3,3,3,3,3,4,4,45,5,5,5,5,5,54,4,6,6,4}"
   ]
  },
  {
   "cell_type": "code",
   "execution_count": 81,
   "id": "3418ea49",
   "metadata": {},
   "outputs": [
    {
     "data": {
      "text/plain": [
       "{1, 2, 3, 4, 5, 6, 13, 45, 54}"
      ]
     },
     "execution_count": 81,
     "metadata": {},
     "output_type": "execute_result"
    }
   ],
   "source": [
    "s2"
   ]
  },
  {
   "cell_type": "code",
   "execution_count": 82,
   "id": "356edbec",
   "metadata": {},
   "outputs": [],
   "source": [
    "#it will always try to remove all dublicate elements"
   ]
  },
  {
   "cell_type": "code",
   "execution_count": 83,
   "id": "db150dae",
   "metadata": {},
   "outputs": [
    {
     "ename": "TypeError",
     "evalue": "'set' object is not subscriptable",
     "output_type": "error",
     "traceback": [
      "\u001b[1;31m---------------------------------------------------------------------------\u001b[0m",
      "\u001b[1;31mTypeError\u001b[0m                                 Traceback (most recent call last)",
      "\u001b[1;32m~\\AppData\\Local\\Temp/ipykernel_8476/2344841457.py\u001b[0m in \u001b[0;36m<module>\u001b[1;34m\u001b[0m\n\u001b[1;32m----> 1\u001b[1;33m \u001b[0ms2\u001b[0m\u001b[1;33m[\u001b[0m\u001b[1;36m0\u001b[0m\u001b[1;33m]\u001b[0m\u001b[1;33m\u001b[0m\u001b[1;33m\u001b[0m\u001b[0m\n\u001b[0m",
      "\u001b[1;31mTypeError\u001b[0m: 'set' object is not subscriptable"
     ]
    }
   ],
   "source": [
    "s2[0]"
   ]
  },
  {
   "cell_type": "code",
   "execution_count": 85,
   "id": "6306abed",
   "metadata": {},
   "outputs": [
    {
     "data": {
      "text/plain": [
       "[1, 2, 3, 4, 5, 6, 13, 45, 54]"
      ]
     },
     "execution_count": 85,
     "metadata": {},
     "output_type": "execute_result"
    }
   ],
   "source": [
    "list(s2)"
   ]
  },
  {
   "cell_type": "code",
   "execution_count": 86,
   "id": "1b566bc7",
   "metadata": {},
   "outputs": [],
   "source": [
    "l=list(s2)"
   ]
  },
  {
   "cell_type": "code",
   "execution_count": 87,
   "id": "59deb248",
   "metadata": {},
   "outputs": [
    {
     "data": {
      "text/plain": [
       "[1, 2, 3, 4, 5, 6, 13, 45, 54]"
      ]
     },
     "execution_count": 87,
     "metadata": {},
     "output_type": "execute_result"
    }
   ],
   "source": [
    "l"
   ]
  },
  {
   "cell_type": "code",
   "execution_count": 88,
   "id": "0f17d9ce",
   "metadata": {},
   "outputs": [
    {
     "data": {
      "text/plain": [
       "{1, 2, 3, 4, 5, 6, 13, 45, 54}"
      ]
     },
     "execution_count": 88,
     "metadata": {},
     "output_type": "execute_result"
    }
   ],
   "source": [
    "set(l\n",
    "   )"
   ]
  },
  {
   "cell_type": "code",
   "execution_count": 89,
   "id": "ea32c962",
   "metadata": {},
   "outputs": [
    {
     "data": {
      "text/plain": [
       "{1, 2, 3, 4, 5, 6, 13, 45, 54}"
      ]
     },
     "execution_count": 89,
     "metadata": {},
     "output_type": "execute_result"
    }
   ],
   "source": [
    "s2"
   ]
  },
  {
   "cell_type": "code",
   "execution_count": 90,
   "id": "46774610",
   "metadata": {},
   "outputs": [],
   "source": [
    "s2.add(636276)"
   ]
  },
  {
   "cell_type": "code",
   "execution_count": 91,
   "id": "4dd0e222",
   "metadata": {},
   "outputs": [
    {
     "data": {
      "text/plain": [
       "{1, 2, 3, 4, 5, 6, 13, 45, 54, 636276}"
      ]
     },
     "execution_count": 91,
     "metadata": {},
     "output_type": "execute_result"
    }
   ],
   "source": [
    "s2"
   ]
  },
  {
   "cell_type": "code",
   "execution_count": 93,
   "id": "ab3ec380",
   "metadata": {},
   "outputs": [],
   "source": [
    "s2.add(\"sardar\")"
   ]
  },
  {
   "cell_type": "code",
   "execution_count": 94,
   "id": "eb9e2fbf",
   "metadata": {},
   "outputs": [
    {
     "data": {
      "text/plain": [
       "{1, 13, 2, 3, 4, 45, 5, 54, 6, 636276, 'sardar'}"
      ]
     },
     "execution_count": 94,
     "metadata": {},
     "output_type": "execute_result"
    }
   ],
   "source": [
    "s2"
   ]
  },
  {
   "cell_type": "code",
   "execution_count": 95,
   "id": "98b1ce06",
   "metadata": {},
   "outputs": [
    {
     "ename": "TypeError",
     "evalue": "unhashable type: 'list'",
     "output_type": "error",
     "traceback": [
      "\u001b[1;31m---------------------------------------------------------------------------\u001b[0m",
      "\u001b[1;31mTypeError\u001b[0m                                 Traceback (most recent call last)",
      "\u001b[1;32m~\\AppData\\Local\\Temp/ipykernel_8476/288734665.py\u001b[0m in \u001b[0;36m<module>\u001b[1;34m\u001b[0m\n\u001b[1;32m----> 1\u001b[1;33m \u001b[0ms2\u001b[0m\u001b[1;33m.\u001b[0m\u001b[0madd\u001b[0m\u001b[1;33m(\u001b[0m\u001b[1;33m[\u001b[0m\u001b[1;36m2\u001b[0m\u001b[1;33m,\u001b[0m\u001b[1;36m34\u001b[0m\u001b[1;33m,\u001b[0m\u001b[1;36m5\u001b[0m\u001b[1;33m]\u001b[0m\u001b[1;33m)\u001b[0m\u001b[1;33m\u001b[0m\u001b[1;33m\u001b[0m\u001b[0m\n\u001b[0m",
      "\u001b[1;31mTypeError\u001b[0m: unhashable type: 'list'"
     ]
    }
   ],
   "source": [
    "s2.add([2,34,5])"
   ]
  },
  {
   "cell_type": "code",
   "execution_count": 99,
   "id": "540ba981",
   "metadata": {},
   "outputs": [],
   "source": [
    "s={(2,2,3,4,2),(2,2,3,4,2),3,4,5,5}"
   ]
  },
  {
   "cell_type": "code",
   "execution_count": 100,
   "id": "3ba2b7d0",
   "metadata": {},
   "outputs": [
    {
     "data": {
      "text/plain": [
       "{(2, 2, 3, 4, 2), 3, 4, 5}"
      ]
     },
     "execution_count": 100,
     "metadata": {},
     "output_type": "execute_result"
    }
   ],
   "source": [
    "s"
   ]
  },
  {
   "cell_type": "code",
   "execution_count": 101,
   "id": "56f04cf0",
   "metadata": {},
   "outputs": [],
   "source": [
    "s.remove(4)"
   ]
  },
  {
   "cell_type": "code",
   "execution_count": 102,
   "id": "aa66bc46",
   "metadata": {},
   "outputs": [
    {
     "data": {
      "text/plain": [
       "{(2, 2, 3, 4, 2), 3, 5}"
      ]
     },
     "execution_count": 102,
     "metadata": {},
     "output_type": "execute_result"
    }
   ],
   "source": [
    "s"
   ]
  },
  {
   "cell_type": "code",
   "execution_count": 103,
   "id": "67495307",
   "metadata": {},
   "outputs": [],
   "source": [
    "s.discard(5)"
   ]
  },
  {
   "cell_type": "code",
   "execution_count": 104,
   "id": "061e2ce1",
   "metadata": {},
   "outputs": [
    {
     "data": {
      "text/plain": [
       "{(2, 2, 3, 4, 2), 3}"
      ]
     },
     "execution_count": 104,
     "metadata": {},
     "output_type": "execute_result"
    }
   ],
   "source": [
    "s"
   ]
  },
  {
   "cell_type": "code",
   "execution_count": 105,
   "id": "d8eac52e",
   "metadata": {},
   "outputs": [
    {
     "ename": "KeyError",
     "evalue": "45",
     "output_type": "error",
     "traceback": [
      "\u001b[1;31m---------------------------------------------------------------------------\u001b[0m",
      "\u001b[1;31mKeyError\u001b[0m                                  Traceback (most recent call last)",
      "\u001b[1;32m~\\AppData\\Local\\Temp/ipykernel_8476/2010124880.py\u001b[0m in \u001b[0;36m<module>\u001b[1;34m\u001b[0m\n\u001b[1;32m----> 1\u001b[1;33m \u001b[0ms\u001b[0m\u001b[1;33m.\u001b[0m\u001b[0mremove\u001b[0m\u001b[1;33m(\u001b[0m\u001b[1;36m45\u001b[0m\u001b[1;33m)\u001b[0m\u001b[1;33m\u001b[0m\u001b[1;33m\u001b[0m\u001b[0m\n\u001b[0m",
      "\u001b[1;31mKeyError\u001b[0m: 45"
     ]
    }
   ],
   "source": [
    "s.remove(45)"
   ]
  },
  {
   "cell_type": "code",
   "execution_count": 106,
   "id": "ffc921df",
   "metadata": {},
   "outputs": [],
   "source": [
    "s.discard(45)"
   ]
  },
  {
   "cell_type": "code",
   "execution_count": 107,
   "id": "2b597896",
   "metadata": {},
   "outputs": [
    {
     "data": {
      "text/plain": [
       "{(2, 2, 3, 4, 2), 3}"
      ]
     },
     "execution_count": 107,
     "metadata": {},
     "output_type": "execute_result"
    }
   ],
   "source": [
    "s"
   ]
  },
  {
   "cell_type": "code",
   "execution_count": 109,
   "id": "c1aa64b3",
   "metadata": {},
   "outputs": [
    {
     "data": {
      "text/plain": [
       "{'Sardar', 'sardar'}"
      ]
     },
     "execution_count": 109,
     "metadata": {},
     "output_type": "execute_result"
    }
   ],
   "source": [
    "{\"sardar\",\"Sardar\"}"
   ]
  },
  {
   "cell_type": "markdown",
   "id": "0d48f108",
   "metadata": {},
   "source": [
    "# Dictionary"
   ]
  },
  {
   "cell_type": "code",
   "execution_count": 111,
   "id": "7fc549b0",
   "metadata": {},
   "outputs": [],
   "source": [
    "s={2,3,4,5,3,3,4,5,5,6,\"sardar\",\"sardar\"}"
   ]
  },
  {
   "cell_type": "code",
   "execution_count": 112,
   "id": "7f9dc056",
   "metadata": {},
   "outputs": [
    {
     "data": {
      "text/plain": [
       "{2, 3, 4, 5, 6, 'sardar'}"
      ]
     },
     "execution_count": 112,
     "metadata": {},
     "output_type": "execute_result"
    }
   ],
   "source": [
    "s"
   ]
  },
  {
   "cell_type": "code",
   "execution_count": 115,
   "id": "288eff55",
   "metadata": {},
   "outputs": [],
   "source": [
    "d={3,4}"
   ]
  },
  {
   "cell_type": "code",
   "execution_count": 116,
   "id": "f11c10cc",
   "metadata": {},
   "outputs": [
    {
     "data": {
      "text/plain": [
       "set"
      ]
     },
     "execution_count": 116,
     "metadata": {},
     "output_type": "execute_result"
    }
   ],
   "source": [
    "type(d)"
   ]
  },
  {
   "cell_type": "code",
   "execution_count": 117,
   "id": "ffccf821",
   "metadata": {},
   "outputs": [],
   "source": [
    "d={4:\"sardar\"}"
   ]
  },
  {
   "cell_type": "code",
   "execution_count": 118,
   "id": "46ee40ed",
   "metadata": {},
   "outputs": [
    {
     "data": {
      "text/plain": [
       "{4: 'sardar'}"
      ]
     },
     "execution_count": 118,
     "metadata": {},
     "output_type": "execute_result"
    }
   ],
   "source": [
    "d"
   ]
  },
  {
   "cell_type": "code",
   "execution_count": 119,
   "id": "339edc3b",
   "metadata": {},
   "outputs": [],
   "source": [
    "d1={\"key1\":367363,\"key2\":\"sardar\",\"key3\":[2,3,4,5]}"
   ]
  },
  {
   "cell_type": "code",
   "execution_count": 120,
   "id": "bf585b15",
   "metadata": {},
   "outputs": [
    {
     "data": {
      "text/plain": [
       "{'key1': 367363, 'key2': 'sardar', 'key3': [2, 3, 4, 5]}"
      ]
     },
     "execution_count": 120,
     "metadata": {},
     "output_type": "execute_result"
    }
   ],
   "source": [
    "d1"
   ]
  },
  {
   "cell_type": "code",
   "execution_count": 121,
   "id": "0bd66101",
   "metadata": {},
   "outputs": [
    {
     "data": {
      "text/plain": [
       "{'key1': 367363, 'key2': 'sardar', 'key3': [2, 3, 4, 5]}"
      ]
     },
     "execution_count": 121,
     "metadata": {},
     "output_type": "execute_result"
    }
   ],
   "source": [
    "d1"
   ]
  },
  {
   "cell_type": "code",
   "execution_count": 123,
   "id": "abe14ef9",
   "metadata": {},
   "outputs": [
    {
     "data": {
      "text/plain": [
       "3"
      ]
     },
     "execution_count": 123,
     "metadata": {},
     "output_type": "execute_result"
    }
   ],
   "source": [
    "d1[\"key3\"][1]"
   ]
  },
  {
   "cell_type": "code",
   "execution_count": 124,
   "id": "8fa26ac3",
   "metadata": {},
   "outputs": [
    {
     "data": {
      "text/plain": [
       "367363"
      ]
     },
     "execution_count": 124,
     "metadata": {},
     "output_type": "execute_result"
    }
   ],
   "source": [
    "d1[\"key1\"]"
   ]
  },
  {
   "cell_type": "code",
   "execution_count": 125,
   "id": "c1e28db7",
   "metadata": {},
   "outputs": [
    {
     "data": {
      "text/plain": [
       "'sardar'"
      ]
     },
     "execution_count": 125,
     "metadata": {},
     "output_type": "execute_result"
    }
   ],
   "source": [
    "d1[\"key2\"]"
   ]
  },
  {
   "cell_type": "code",
   "execution_count": 131,
   "id": "0674dc5c",
   "metadata": {},
   "outputs": [
    {
     "ename": "SyntaxError",
     "evalue": "invalid syntax (Temp/ipykernel_8476/455101157.py, line 1)",
     "output_type": "error",
     "traceback": [
      "\u001b[1;36m  File \u001b[1;32m\"C:\\Users\\SARDAR\\AppData\\Local\\Temp/ipykernel_8476/455101157.py\"\u001b[1;36m, line \u001b[1;32m1\u001b[0m\n\u001b[1;33m    d={:[\"sardar\",\"khan\",343643]}\u001b[0m\n\u001b[1;37m       ^\u001b[0m\n\u001b[1;31mSyntaxError\u001b[0m\u001b[1;31m:\u001b[0m invalid syntax\n"
     ]
    }
   ],
   "source": [
    "d={:[\"sardar\",\"khan\",343643]}"
   ]
  },
  {
   "cell_type": "code",
   "execution_count": 135,
   "id": "81cf33dc",
   "metadata": {},
   "outputs": [],
   "source": [
    "d={\"key\":{3,4,5,6,3}}"
   ]
  },
  {
   "cell_type": "code",
   "execution_count": 133,
   "id": "35cefc82",
   "metadata": {},
   "outputs": [
    {
     "data": {
      "text/plain": [
       "{'key': (3, 4, 5, 6, 3)}"
      ]
     },
     "execution_count": 133,
     "metadata": {},
     "output_type": "execute_result"
    }
   ],
   "source": [
    "d"
   ]
  },
  {
   "cell_type": "code",
   "execution_count": 139,
   "id": "3340c636",
   "metadata": {},
   "outputs": [],
   "source": [
    "d1={\"key1\":[2,3,45,6],\"key2\":\"sardar\",\"key1\":45,\"key1\":\"ineuron\"}"
   ]
  },
  {
   "cell_type": "code",
   "execution_count": 141,
   "id": "e2ab1c0b",
   "metadata": {},
   "outputs": [
    {
     "data": {
      "text/plain": [
       "'e'"
      ]
     },
     "execution_count": 141,
     "metadata": {},
     "output_type": "execute_result"
    }
   ],
   "source": [
    "d1[\"key1\"][2]"
   ]
  },
  {
   "cell_type": "code",
   "execution_count": 143,
   "id": "cb72a569",
   "metadata": {},
   "outputs": [],
   "source": [
    "d={\"name\":\"sardarkhan\",\"mo_no\":8801951907,\"mail_id\":\"mohdsardarkhan@gmailcom\",\"key1\":[2,34,5],\"key2\":(2,34,5),\"key3\":{2,3,4,5,55,5,5,5,5,6,6,7,7},\"key4\":{1:5,4:6}}"
   ]
  },
  {
   "cell_type": "code",
   "execution_count": 144,
   "id": "f0a6368c",
   "metadata": {},
   "outputs": [
    {
     "data": {
      "text/plain": [
       "{'name': 'sardarkhan',\n",
       " 'mo_no': 8801951907,\n",
       " 'mail_id': 'mohdsardarkhan@gmailcom',\n",
       " 'key1': [2, 34, 5],\n",
       " 'key2': (2, 34, 5),\n",
       " 'key3': {2, 3, 4, 5, 6, 7, 55},\n",
       " 'key4': {1: 5, 4: 6}}"
      ]
     },
     "execution_count": 144,
     "metadata": {},
     "output_type": "execute_result"
    }
   ],
   "source": [
    "d"
   ]
  },
  {
   "cell_type": "code",
   "execution_count": 145,
   "id": "b74c7d8b",
   "metadata": {},
   "outputs": [
    {
     "data": {
      "text/plain": [
       "dict"
      ]
     },
     "execution_count": 145,
     "metadata": {},
     "output_type": "execute_result"
    }
   ],
   "source": [
    "type(d)"
   ]
  },
  {
   "cell_type": "code",
   "execution_count": 149,
   "id": "039d2b95",
   "metadata": {},
   "outputs": [
    {
     "data": {
      "text/plain": [
       "6"
      ]
     },
     "execution_count": 149,
     "metadata": {},
     "output_type": "execute_result"
    }
   ],
   "source": [
    "d[\"key4\"][4]"
   ]
  },
  {
   "cell_type": "code",
   "execution_count": 148,
   "id": "edd7bba6",
   "metadata": {},
   "outputs": [
    {
     "data": {
      "text/plain": [
       "dict"
      ]
     },
     "execution_count": 148,
     "metadata": {},
     "output_type": "execute_result"
    }
   ],
   "source": [
    "type(d[\"key4\"])"
   ]
  },
  {
   "cell_type": "code",
   "execution_count": 150,
   "id": "69ce6a1b",
   "metadata": {},
   "outputs": [
    {
     "data": {
      "text/plain": [
       "dict_keys(['name', 'mo_no', 'mail_id', 'key1', 'key2', 'key3', 'key4'])"
      ]
     },
     "execution_count": 150,
     "metadata": {},
     "output_type": "execute_result"
    }
   ],
   "source": [
    "d.keys()"
   ]
  },
  {
   "cell_type": "code",
   "execution_count": 151,
   "id": "c4e0cbe3",
   "metadata": {},
   "outputs": [
    {
     "data": {
      "text/plain": [
       "dict_values(['sardarkhan', 8801951907, 'mohdsardarkhan@gmailcom', [2, 34, 5], (2, 34, 5), {2, 3, 4, 5, 6, 7, 55}, {1: 5, 4: 6}])"
      ]
     },
     "execution_count": 151,
     "metadata": {},
     "output_type": "execute_result"
    }
   ],
   "source": [
    "d.values()"
   ]
  },
  {
   "cell_type": "code",
   "execution_count": 153,
   "id": "0577129b",
   "metadata": {},
   "outputs": [
    {
     "data": {
      "text/plain": [
       "dict_items"
      ]
     },
     "execution_count": 153,
     "metadata": {},
     "output_type": "execute_result"
    }
   ],
   "source": [
    "type(d.items())"
   ]
  },
  {
   "cell_type": "code",
   "execution_count": 154,
   "id": "c803be57",
   "metadata": {},
   "outputs": [],
   "source": [
    "d={\"key1\":\"sardar\",'key2':[1,23,4,5,3]}\n"
   ]
  },
  {
   "cell_type": "code",
   "execution_count": 155,
   "id": "0106b43c",
   "metadata": {},
   "outputs": [
    {
     "ename": "NameError",
     "evalue": "name 'D' is not defined",
     "output_type": "error",
     "traceback": [
      "\u001b[1;31m---------------------------------------------------------------------------\u001b[0m",
      "\u001b[1;31mNameError\u001b[0m                                 Traceback (most recent call last)",
      "\u001b[1;32m~\\AppData\\Local\\Temp/ipykernel_8476/3632740253.py\u001b[0m in \u001b[0;36m<module>\u001b[1;34m\u001b[0m\n\u001b[1;32m----> 1\u001b[1;33m \u001b[0mD\u001b[0m\u001b[1;33m\u001b[0m\u001b[1;33m\u001b[0m\u001b[0m\n\u001b[0m",
      "\u001b[1;31mNameError\u001b[0m: name 'D' is not defined"
     ]
    }
   ],
   "source": [
    "D"
   ]
  },
  {
   "cell_type": "code",
   "execution_count": 156,
   "id": "c79ffe97",
   "metadata": {},
   "outputs": [
    {
     "data": {
      "text/plain": [
       "{'key1': 'sardar', 'key2': [1, 23, 4, 5, 3]}"
      ]
     },
     "execution_count": 156,
     "metadata": {},
     "output_type": "execute_result"
    }
   ],
   "source": [
    "d"
   ]
  },
  {
   "cell_type": "code",
   "execution_count": 159,
   "id": "23be3962",
   "metadata": {},
   "outputs": [],
   "source": [
    "d[\"key3\"]=(2,3,4,5)"
   ]
  },
  {
   "cell_type": "code",
   "execution_count": 160,
   "id": "ced1a6bf",
   "metadata": {},
   "outputs": [
    {
     "data": {
      "text/plain": [
       "{'key1': 'sardar', 'key2': [1, 23, 4, 5, 3], 'key3': (2, 3, 4, 5)}"
      ]
     },
     "execution_count": 160,
     "metadata": {},
     "output_type": "execute_result"
    }
   ],
   "source": [
    "d"
   ]
  },
  {
   "cell_type": "code",
   "execution_count": 161,
   "id": "6c63cf22",
   "metadata": {},
   "outputs": [],
   "source": [
    "d[\"key3\"]=\"sardar\""
   ]
  },
  {
   "cell_type": "code",
   "execution_count": 162,
   "id": "2a21d4f7",
   "metadata": {},
   "outputs": [
    {
     "data": {
      "text/plain": [
       "{'key1': 'sardar', 'key2': [1, 23, 4, 5, 3], 'key3': 'sardar'}"
      ]
     },
     "execution_count": 162,
     "metadata": {},
     "output_type": "execute_result"
    }
   ],
   "source": [
    "d"
   ]
  },
  {
   "cell_type": "code",
   "execution_count": 164,
   "id": "de73238f",
   "metadata": {},
   "outputs": [],
   "source": [
    "d[\"key1\"]=\"khan\""
   ]
  },
  {
   "cell_type": "code",
   "execution_count": 165,
   "id": "6f35f908",
   "metadata": {},
   "outputs": [
    {
     "data": {
      "text/plain": [
       "{'key1': 'khan', 'key2': [1, 23, 4, 5, 3], 'key3': 'sardar'}"
      ]
     },
     "execution_count": 165,
     "metadata": {},
     "output_type": "execute_result"
    }
   ],
   "source": [
    "d"
   ]
  },
  {
   "cell_type": "code",
   "execution_count": 166,
   "id": "97f68c98",
   "metadata": {},
   "outputs": [
    {
     "ename": "SyntaxError",
     "evalue": "invalid syntax (Temp/ipykernel_8476/4276164076.py, line 1)",
     "output_type": "error",
     "traceback": [
      "\u001b[1;36m  File \u001b[1;32m\"C:\\Users\\SARDAR\\AppData\\Local\\Temp/ipykernel_8476/4276164076.py\"\u001b[1;36m, line \u001b[1;32m1\u001b[0m\n\u001b[1;33m    d[\"key4\"]=\"key4\":[1:2,3:4]\u001b[0m\n\u001b[1;37m                    ^\u001b[0m\n\u001b[1;31mSyntaxError\u001b[0m\u001b[1;31m:\u001b[0m invalid syntax\n"
     ]
    }
   ],
   "source": [
    "d[\"key4\"]=\"key4\":[1:2,3:4]"
   ]
  },
  {
   "cell_type": "code",
   "execution_count": 167,
   "id": "5ee1b320",
   "metadata": {},
   "outputs": [
    {
     "data": {
      "text/plain": [
       "{'key1': 'khan', 'key2': [1, 23, 4, 5, 3], 'key3': 'sardar'}"
      ]
     },
     "execution_count": 167,
     "metadata": {},
     "output_type": "execute_result"
    }
   ],
   "source": [
    "d"
   ]
  },
  {
   "cell_type": "code",
   "execution_count": 168,
   "id": "270bac79",
   "metadata": {},
   "outputs": [],
   "source": [
    "del d[\"key1\"]"
   ]
  },
  {
   "cell_type": "code",
   "execution_count": 169,
   "id": "38cd38f8",
   "metadata": {},
   "outputs": [
    {
     "data": {
      "text/plain": [
       "{'key2': [1, 23, 4, 5, 3], 'key3': 'sardar'}"
      ]
     },
     "execution_count": 169,
     "metadata": {},
     "output_type": "execute_result"
    }
   ],
   "source": [
    "d\n"
   ]
  },
  {
   "cell_type": "code",
   "execution_count": 170,
   "id": "de8b88c4",
   "metadata": {},
   "outputs": [],
   "source": [
    "del d"
   ]
  },
  {
   "cell_type": "code",
   "execution_count": 171,
   "id": "cf372bda",
   "metadata": {},
   "outputs": [
    {
     "ename": "NameError",
     "evalue": "name 'd' is not defined",
     "output_type": "error",
     "traceback": [
      "\u001b[1;31m---------------------------------------------------------------------------\u001b[0m",
      "\u001b[1;31mNameError\u001b[0m                                 Traceback (most recent call last)",
      "\u001b[1;32m~\\AppData\\Local\\Temp/ipykernel_8476/3161387801.py\u001b[0m in \u001b[0;36m<module>\u001b[1;34m\u001b[0m\n\u001b[1;32m----> 1\u001b[1;33m \u001b[0md\u001b[0m\u001b[1;33m\u001b[0m\u001b[1;33m\u001b[0m\u001b[0m\n\u001b[0m",
      "\u001b[1;31mNameError\u001b[0m: name 'd' is not defined"
     ]
    }
   ],
   "source": [
    "d"
   ]
  },
  {
   "cell_type": "code",
   "execution_count": 172,
   "id": "f539de6a",
   "metadata": {},
   "outputs": [],
   "source": [
    "d1={\"key1\":\"sardar\",\"key2\":[2,34,45,5,6]}"
   ]
  },
  {
   "cell_type": "code",
   "execution_count": 173,
   "id": "62ea09b6",
   "metadata": {},
   "outputs": [
    {
     "data": {
      "text/plain": [
       "{'key1': 'sardar', 'key2': [2, 34, 45, 5, 6]}"
      ]
     },
     "execution_count": 173,
     "metadata": {},
     "output_type": "execute_result"
    }
   ],
   "source": [
    "d1"
   ]
  },
  {
   "cell_type": "code",
   "execution_count": 174,
   "id": "d19c6dba",
   "metadata": {},
   "outputs": [
    {
     "ename": "TypeError",
     "evalue": "unhashable type: 'list'",
     "output_type": "error",
     "traceback": [
      "\u001b[1;31m---------------------------------------------------------------------------\u001b[0m",
      "\u001b[1;31mTypeError\u001b[0m                                 Traceback (most recent call last)",
      "\u001b[1;32m~\\AppData\\Local\\Temp/ipykernel_8476/104022508.py\u001b[0m in \u001b[0;36m<module>\u001b[1;34m\u001b[0m\n\u001b[1;32m----> 1\u001b[1;33m \u001b[0md1\u001b[0m\u001b[1;33m[\u001b[0m\u001b[1;33m[\u001b[0m\u001b[1;36m1\u001b[0m\u001b[1;33m,\u001b[0m\u001b[1;36m2\u001b[0m\u001b[1;33m,\u001b[0m\u001b[1;36m34\u001b[0m\u001b[1;33m,\u001b[0m\u001b[1;36m3\u001b[0m\u001b[1;33m]\u001b[0m\u001b[1;33m]\u001b[0m\u001b[1;33m=\u001b[0m\u001b[1;34m\"ineuron\"\u001b[0m\u001b[1;33m\u001b[0m\u001b[1;33m\u001b[0m\u001b[0m\n\u001b[0m",
      "\u001b[1;31mTypeError\u001b[0m: unhashable type: 'list'"
     ]
    }
   ],
   "source": [
    "d1[[1,2,34,3]]=\"ineuron\""
   ]
  },
  {
   "cell_type": "code",
   "execution_count": 175,
   "id": "560db2ff",
   "metadata": {},
   "outputs": [],
   "source": [
    "d1[(1,2,34,2)]=\"ineuron\""
   ]
  },
  {
   "cell_type": "code",
   "execution_count": 176,
   "id": "5137d621",
   "metadata": {},
   "outputs": [
    {
     "data": {
      "text/plain": [
       "{'key1': 'sardar', 'key2': [2, 34, 45, 5, 6], (1, 2, 34, 2): 'ineuron'}"
      ]
     },
     "execution_count": 176,
     "metadata": {},
     "output_type": "execute_result"
    }
   ],
   "source": [
    "d1"
   ]
  },
  {
   "cell_type": "code",
   "execution_count": 177,
   "id": "c89066b2",
   "metadata": {},
   "outputs": [
    {
     "data": {
      "text/plain": [
       "'sardar'"
      ]
     },
     "execution_count": 177,
     "metadata": {},
     "output_type": "execute_result"
    }
   ],
   "source": [
    "d1.get(\"key1\")"
   ]
  },
  {
   "cell_type": "code",
   "execution_count": 182,
   "id": "d1aab21f",
   "metadata": {},
   "outputs": [],
   "source": [
    "d1={'key1':\"ineron\",\"key\": \"fsgfgs\"}"
   ]
  },
  {
   "cell_type": "code",
   "execution_count": 183,
   "id": "e82451d4",
   "metadata": {},
   "outputs": [],
   "source": [
    "d2={\"key2\":22323,\"key3\":[12,3,4,5]}"
   ]
  },
  {
   "cell_type": "code",
   "execution_count": 184,
   "id": "b06b89f3",
   "metadata": {},
   "outputs": [],
   "source": [
    "d1.update(d2)"
   ]
  },
  {
   "cell_type": "code",
   "execution_count": 185,
   "id": "54451d06",
   "metadata": {},
   "outputs": [
    {
     "data": {
      "text/plain": [
       "{'key1': 'ineron', 'key': 'fsgfgs', 'key2': 22323, 'key3': [12, 3, 4, 5]}"
      ]
     },
     "execution_count": 185,
     "metadata": {},
     "output_type": "execute_result"
    }
   ],
   "source": [
    "d1"
   ]
  },
  {
   "cell_type": "code",
   "execution_count": 186,
   "id": "b32454cb",
   "metadata": {},
   "outputs": [
    {
     "data": {
      "text/plain": [
       "{'key2': 22323, 'key3': [12, 3, 4, 5]}"
      ]
     },
     "execution_count": 186,
     "metadata": {},
     "output_type": "execute_result"
    }
   ],
   "source": [
    "d2"
   ]
  },
  {
   "cell_type": "code",
   "execution_count": 187,
   "id": "9a32999c",
   "metadata": {},
   "outputs": [
    {
     "ename": "TypeError",
     "evalue": "unsupported operand type(s) for +: 'dict' and 'dict'",
     "output_type": "error",
     "traceback": [
      "\u001b[1;31m---------------------------------------------------------------------------\u001b[0m",
      "\u001b[1;31mTypeError\u001b[0m                                 Traceback (most recent call last)",
      "\u001b[1;32m~\\AppData\\Local\\Temp/ipykernel_8476/833095442.py\u001b[0m in \u001b[0;36m<module>\u001b[1;34m\u001b[0m\n\u001b[1;32m----> 1\u001b[1;33m \u001b[0md1\u001b[0m\u001b[1;33m+\u001b[0m\u001b[0md2\u001b[0m\u001b[1;33m\u001b[0m\u001b[1;33m\u001b[0m\u001b[0m\n\u001b[0m",
      "\u001b[1;31mTypeError\u001b[0m: unsupported operand type(s) for +: 'dict' and 'dict'"
     ]
    }
   ],
   "source": [
    "d1+d2"
   ]
  },
  {
   "cell_type": "code",
   "execution_count": null,
   "id": "c26663c9",
   "metadata": {},
   "outputs": [],
   "source": []
  }
 ],
 "metadata": {
  "kernelspec": {
   "display_name": "Python 3 (ipykernel)",
   "language": "python",
   "name": "python3"
  },
  "language_info": {
   "codemirror_mode": {
    "name": "ipython",
    "version": 3
   },
   "file_extension": ".py",
   "mimetype": "text/x-python",
   "name": "python",
   "nbconvert_exporter": "python",
   "pygments_lexer": "ipython3",
   "version": "3.9.7"
  }
 },
 "nbformat": 4,
 "nbformat_minor": 5
}
